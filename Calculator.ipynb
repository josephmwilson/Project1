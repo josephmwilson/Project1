{
  "cells": [
    {
      "cell_type": "markdown",
      "metadata": {
        "id": "view-in-github",
        "colab_type": "text"
      },
      "source": [
        "<a href=\"https://colab.research.google.com/github/josephmwilson/Project1/blob/main/Calculator.ipynb\" target=\"_parent\"><img src=\"https://colab.research.google.com/assets/colab-badge.svg\" alt=\"Open In Colab\"/></a>"
      ]
    },
    {
      "cell_type": "code",
      "execution_count": null,
      "metadata": {
        "colab": {
          "background_save": true,
          "base_uri": "https://localhost:8080/"
        },
        "id": "SniJYsGdbsEB",
        "outputId": "e164ead0-123f-48fd-cbb4-ddef23b4f79d"
      },
      "outputs": [
        {
          "name": "stdout",
          "output_type": "stream",
          "text": [
            "4.0\n"
          ]
        }
      ],
      "source": [
        "## Calculator never ends, will implement all numeric operators\n",
        "## User will provide numbers and desired operator from the keyboard\n",
        "## Calculator stops if user enters the word \"break\"\n",
        "\n",
        "while True:\n",
        "  equation = input(\"What operation: \")\n",
        "  num_1 = float(input(\"Enter first number: \"))\n",
        "  num_2 = float(input(\"Enter second number: \"))\n",
        "\n",
        "  if equation == \"break\":\n",
        "    break\n",
        "\n",
        "  if equation == \"addition\" or \"Addition\" or \"+\":\n",
        "    answer = num_1 + num_2\n",
        "  elif equation == \"subtraction\" or \"Subtraction\" or \"-\":\n",
        "      answer = num_1 - num_2\n",
        "  elif equation == \"Multiplication\" or \"multiplication\" or \"*\":\n",
        "      answer = num_1 * num_2\n",
        "  elif equation == \"Division\" or \"division\" or \"/\":\n",
        "      answer = num_1 / num_2\n",
        "  else:\n",
        "    print(\"Invalid input\")\n",
        "  print(answer)\n",
        "  continue"
      ]
    }
  ],
  "metadata": {
    "colab": {
      "provenance": [],
      "authorship_tag": "ABX9TyNzIE9wwzxxmjFEQwOQ6m6a",
      "include_colab_link": true
    },
    "kernelspec": {
      "display_name": "Python 3",
      "name": "python3"
    },
    "language_info": {
      "name": "python"
    }
  },
  "nbformat": 4,
  "nbformat_minor": 0
}
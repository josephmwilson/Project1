{
  "nbformat": 4,
  "nbformat_minor": 0,
  "metadata": {
    "colab": {
      "provenance": [],
      "authorship_tag": "ABX9TyOmhBJpCFh9zKQLwhRS4OzG",
      "include_colab_link": true
    },
    "kernelspec": {
      "name": "python3",
      "display_name": "Python 3"
    },
    "language_info": {
      "name": "python"
    }
  },
  "cells": [
    {
      "cell_type": "markdown",
      "metadata": {
        "id": "view-in-github",
        "colab_type": "text"
      },
      "source": [
        "<a href=\"https://colab.research.google.com/github/josephmwilson/Project1/blob/main/User_lists.ipynb\" target=\"_parent\"><img src=\"https://colab.research.google.com/assets/colab-badge.svg\" alt=\"Open In Colab\"/></a>"
      ]
    },
    {
      "cell_type": "code",
      "execution_count": 4,
      "metadata": {
        "colab": {
          "base_uri": "https://localhost:8080/"
        },
        "id": "IpYJgBUn0B6F",
        "outputId": "5cd1ba46-0d70-4fec-d928-44c5d1ecd0cf"
      },
      "outputs": [
        {
          "name": "stdout",
          "output_type": "stream",
          "text": [
            "Enter a number: 29\n",
            "[29]\n",
            "Enter a number: 90\n",
            "[29, 90]\n",
            "Enter a number: 0\n"
          ]
        }
      ],
      "source": [
        "#Ask for user input\n",
        "#Then add user to a list until the user enters 0\n",
        "\n",
        "list = []\n",
        "\n",
        "number = int(input(\"Enter a number: \"))\n",
        "\n",
        "while number != 0:\n",
        "  list.append(number)\n",
        "  number = int(input(\"Enter a number: \"))\n",
        "\n",
        "print(list)\n",
        "\n"
      ]
    }
  ]
}
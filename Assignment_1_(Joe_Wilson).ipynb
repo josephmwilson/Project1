{
  "nbformat": 4,
  "nbformat_minor": 0,
  "metadata": {
    "colab": {
      "provenance": [],
      "include_colab_link": true
    },
    "kernelspec": {
      "name": "python3",
      "display_name": "Python 3"
    },
    "language_info": {
      "name": "python"
    }
  },
  "cells": [
    {
      "cell_type": "markdown",
      "metadata": {
        "id": "view-in-github",
        "colab_type": "text"
      },
      "source": [
        "<a href=\"https://colab.research.google.com/github/josephmwilson/Project1/blob/main/Assignment_1_(Joe_Wilson).ipynb\" target=\"_parent\"><img src=\"https://colab.research.google.com/assets/colab-badge.svg\" alt=\"Open In Colab\"/></a>"
      ]
    },
    {
      "cell_type": "markdown",
      "source": [
        "# Problem Set 2"
      ],
      "metadata": {
        "id": "mqKVIuY-mxNU"
      }
    },
    {
      "cell_type": "markdown",
      "source": [
        "## Assignment 1: Quality Control (7 points)\n",
        "\n",
        "A quality control manager would like to find the average weight of a list of weights. Prior experience indicates that the first two measures are atypical, and the practice is to exclude these from the average calculation.\n",
        "\n",
        "Write a program that calculates the average of a list of numbers that given as inputs from the user, excluding the first two values.\n",
        "\n",
        "For your program, you must define and use the following functions:\n",
        "- `getValues(n)`: Prompt the user for `n` values, returns the list\n",
        "- `calcAverage(alist)`: Calculates the average from the list"
      ],
      "metadata": {
        "id": "-RSYW1jVm08n"
      }
    },
    {
      "cell_type": "code",
      "execution_count": null,
      "metadata": {
        "id": "AqbgJkgNmvQw"
      },
      "outputs": [],
      "source": [
        "def getValues(n):\n",
        "  weights = []\n",
        "  for x in range(n):\n",
        "    user_weight = float(input(\"Enter weight lbs:  \"))\n",
        "    weights.append(user_weight)\n",
        "  return weights[2:]\n",
        "def calcAverage(aList):\n",
        "  if len(aList) < 1:\n",
        "    print(\"Not enough values\")\n",
        "  else:\n",
        "    return sum(aList) / len(aList)\n",
        "\n",
        "\n",
        "n_weight = int(input('Enter number of weights'))\n",
        "W = getValues(n_weight)\n",
        "calcAverage(W)\n",
        "\n",
        "\n",
        "\n",
        "\n"
      ]
    },
    {
      "cell_type": "markdown",
      "source": [
        "## Assignment 2: Country Statistics Lookup-Multiple Measures (6 points)\n",
        "\n",
        "Assume a program begins with the statement:\n",
        "\n",
        "```python\n",
        "allData = { # dictionary of values for countries\n",
        "    'US': {'pop':325.7, 'gdp': 19.39, 'ccy': 'USD', 'fx':  1.0},\n",
        "    'CA': {'pop': 36.5, 'gdp':  1.65, 'ccy': 'CAD', 'fx':  1.35},\n",
        "    'MX': {'pop':129.2, 'gdp':  1.15, 'ccy': 'MXN', 'fx': 19.68}\n",
        "    }\n",
        "```\n",
        "\n",
        "Write subsequent statements that (in a loop) prompt the user for a country code (`US`, `CA`, or `MX`), then prompt for a measure name (`pop`, `gdp`, `ccy`, or `fx`), then look up in the above dictionary for the corresponding value, and display it.\n",
        "\n",
        "Example run:\n",
        "```\n",
        "Please enter a country code: CA\n",
        "Please enter a statistic: pop\n",
        "CA pop = 36.5\n",
        "```\n",
        "\n",
        "Your program should handle the cases where a user-entered country code or measure name is not found."
      ],
      "metadata": {
        "id": "QFO0Kzx8ncnv"
      }
    },
    {
      "cell_type": "code",
      "source": [
        "allData = { # dictionary of values for countries\n",
        "    'US': {'pop':325.7, 'gdp': 19.39, 'ccy': 'USD', 'fx':  1.0},\n",
        "    'CA': {'pop': 36.5, 'gdp':  1.65, 'ccy': 'CAD', 'fx':  1.35},\n",
        "    'MX': {'pop':129.2, 'gdp':  1.15, 'ccy': 'MXN', 'fx': 19.68}\n",
        "    }\n",
        "while True:\n",
        "      user_countrycode = input(\"Enter a country code: \")\n",
        "      if user_countrycode not in allData.keys():\n",
        "       print(\"Code does not exist\")\n",
        "       continue\n",
        "      user_statistic = input(\"Enter a statistic to see: \")\n",
        "      if user_statistic not in allData[user_countrycode].keys():\n",
        "       print(\"Statistic does not exist\")\n",
        "       continue\n",
        "\n",
        "\n",
        "      if user_statistic == 'pop':\n",
        "        print(f'Population: {allData[user_countrycode][user_statistic]} million people')\n",
        "      elif user_statistic == 'gdp':\n",
        "        print(f'GDP: {allData[user_countrycode][user_statistic]} trillion')\n",
        "      elif user_statistic == 'ccy':\n",
        "        print(f'Currency: {allData[user_countrycode][user_statistic]}')\n",
        "      else:\n",
        "        print(f'FX: {allData[user_countrycode][user_statistic]}')\n"
      ],
      "metadata": {
        "id": "NZFjRINKowEW",
        "colab": {
          "base_uri": "https://localhost:8080/"
        },
        "outputId": "863bd2a1-cf84-4ea6-f1f7-e9c8da1c2956"
      },
      "execution_count": null,
      "outputs": [
        {
          "output_type": "stream",
          "name": "stdout",
          "text": [
            "Enter a country code: AS\n",
            "Code does not exist\n",
            "Enter a country code: CA\n",
            "Enter a statistic to see: UU\n",
            "Statistic does not exist\n"
          ]
        }
      ]
    },
    {
      "cell_type": "markdown",
      "source": [
        "## Assignment 3: Parking Garage (6 points)\n",
        "\n",
        "Write a program to compute the fee for parking in a garage for a number of hours.\n",
        "\n",
        "The program should:\n",
        "- Prompt the user for how many hours parked\n",
        "- Calculate the fee based on the following rules:\n",
        "  - $2.50/hour\n",
        "\n",
        "  - minimum fee is $6.00\n",
        "\n",
        "  - maximum fee is $20.00\n",
        "- Print the result\n",
        "\n",
        "For your program, define and use the following two functions:\n",
        "```python\n",
        "# use input() to prompt for the # of hours parked, return this value\n",
        "def getParkingHours()\n",
        "\n",
        "# takes as input hours (a number), returns the parking fee\n",
        "def calcParkingFee()\n",
        "```"
      ],
      "metadata": {
        "id": "GjaUFrnfpKFf"
      }
    },
    {
      "cell_type": "code",
      "source": [
        "def getParkingHours(n):\n",
        "  if n_hours == 0:\n",
        "    print(\"Invalid number\")\n",
        "  else:\n",
        "    return n_hours\n",
        "def calcParkingFee(n_hours):\n",
        "  fee = n_hours * 2.50\n",
        "  if fee <= 6.00:\n",
        "    fee = 6.00\n",
        "    return fee\n",
        "  elif fee >= 20.00:\n",
        "    fee = 20.00\n",
        "    return fee\n",
        "  else:\n",
        "    return fee\n",
        "\n",
        "\n",
        "n_hours = int(input('Enter number of hours: '))\n",
        "hrs = getParkingHours(n_hours)\n",
        "calcParkingFee(hrs)\n",
        "\n",
        "\n"
      ],
      "metadata": {
        "id": "5ha4O3V5pwNN",
        "colab": {
          "base_uri": "https://localhost:8080/"
        },
        "outputId": "36b1052e-de86-4cd7-bf36-2a53827f25de"
      },
      "execution_count": null,
      "outputs": [
        {
          "name": "stdout",
          "output_type": "stream",
          "text": [
            "Enter number of hours: 4\n"
          ]
        },
        {
          "output_type": "execute_result",
          "data": {
            "text/plain": [
              "10.0"
            ]
          },
          "metadata": {},
          "execution_count": 10
        }
      ]
    },
    {
      "cell_type": "markdown",
      "source": [
        "## Assignment 4: Tuition (6 points)\n",
        "\n",
        "A college charges tuition according to the following:\n",
        "- 12 or more credits: $20,000/semester\n",
        "\n",
        "- 1-11 credits: $1,200 + $1,700 per credit\n",
        "\n",
        "Write a program that prompts the user for a number of credits and determines and displays the tuition for the semester. As part of your program, define and use the following function:\n",
        "```python\n",
        "def calcTuition(credits)\n",
        "```\n",
        "The function returns the tuition for a given number of credits"
      ],
      "metadata": {
        "id": "gipBObe5qm-2"
      }
    },
    {
      "cell_type": "code",
      "source": [
        "def calcTuition(credits):\n",
        "  total_charge = 0\n",
        "  if credits > 0 and credits < 12:\n",
        "    total_charge = 1200 + 1700 * credits\n",
        "  elif credits >= 12:\n",
        "    total_charge = 20000\n",
        "  else:\n",
        "    print('Invalid number of credits')\n",
        "  return total_charge\n",
        "\n",
        "n_credits = int(input('Enter number of credits you are taking this semester: '))\n",
        "calcTuition(n_credits)\n",
        "\n",
        "\n",
        "\n"
      ],
      "metadata": {
        "id": "BPcn9ywzrL8y",
        "colab": {
          "base_uri": "https://localhost:8080/"
        },
        "outputId": "fb995dc9-3c39-467c-d642-9e724e6c2337"
      },
      "execution_count": 22,
      "outputs": [
        {
          "name": "stdout",
          "output_type": "stream",
          "text": [
            "Enter number of credits you are taking this semester: 8\n"
          ]
        },
        {
          "output_type": "execute_result",
          "data": {
            "text/plain": [
              "14800"
            ]
          },
          "metadata": {},
          "execution_count": 22
        }
      ]
    }
  ]
}
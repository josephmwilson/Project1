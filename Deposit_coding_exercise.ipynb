{
  "nbformat": 4,
  "nbformat_minor": 0,
  "metadata": {
    "colab": {
      "provenance": [],
      "authorship_tag": "ABX9TyM/ozI9lMcXfkQjzwqXPGT/",
      "include_colab_link": true
    },
    "kernelspec": {
      "name": "python3",
      "display_name": "Python 3"
    },
    "language_info": {
      "name": "python"
    }
  },
  "cells": [
    {
      "cell_type": "markdown",
      "metadata": {
        "id": "view-in-github",
        "colab_type": "text"
      },
      "source": [
        "<a href=\"https://colab.research.google.com/github/josephmwilson/Project1/blob/main/Deposit_coding_exercise.ipynb\" target=\"_parent\"><img src=\"https://colab.research.google.com/assets/colab-badge.svg\" alt=\"Open In Colab\"/></a>"
      ]
    },
    {
      "cell_type": "code",
      "execution_count": null,
      "metadata": {
        "colab": {
          "base_uri": "https://localhost:8080/"
        },
        "id": "E1QrrP9Zj0AN",
        "outputId": "bbfb7b90-8d37-46ba-e804-ff22da82cb9b"
      },
      "outputs": [
        {
          "output_type": "stream",
          "name": "stdout",
          "text": [
            "Enter the amount of money you've deposited: 20000\n",
            "Are you an existing customer: yes\n",
            "The total amount at end of year is: 20700.0\n"
          ]
        }
      ],
      "source": [
        "deposit = float(input(\"Enter the amount of money you've deposited: \")) # make sure to include float when asking to type a decimal\n",
        "customer_status = input(\"Are you an existing customer: \")\n",
        "new_customer = customer_status == \"No\" or \"no\"\n",
        "\n",
        "if new_customer == True:\n",
        "  ir = 3.0\n",
        "else:\n",
        "  if deposit > 10000:\n",
        "    ir = 3.5\n",
        "  elif deposit < 1000:\n",
        "    ir = 3.0\n",
        "  else:\n",
        "    ir = 5.25\n",
        "  total_amount = deposit * (1 + (ir/100))\n",
        "  print(f'The total amount at end of year is: {round(total_amount,2)}')\n",
        "\n"
      ]
    }
  ]
}
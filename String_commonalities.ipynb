{
  "nbformat": 4,
  "nbformat_minor": 0,
  "metadata": {
    "colab": {
      "provenance": [],
      "authorship_tag": "ABX9TyMyXlND+3hsADc5AnAfa/j5",
      "include_colab_link": true
    },
    "kernelspec": {
      "name": "python3",
      "display_name": "Python 3"
    },
    "language_info": {
      "name": "python"
    }
  },
  "cells": [
    {
      "cell_type": "markdown",
      "metadata": {
        "id": "view-in-github",
        "colab_type": "text"
      },
      "source": [
        "<a href=\"https://colab.research.google.com/github/josephmwilson/Project1/blob/main/String_commonalities.ipynb\" target=\"_parent\"><img src=\"https://colab.research.google.com/assets/colab-badge.svg\" alt=\"Open In Colab\"/></a>"
      ]
    },
    {
      "cell_type": "code",
      "execution_count": 16,
      "metadata": {
        "colab": {
          "base_uri": "https://localhost:8080/"
        },
        "id": "dOFG2R_CGrPH",
        "outputId": "5479268e-c5c5-4280-b9ea-61bdec469fb9"
      },
      "outputs": [
        {
          "output_type": "stream",
          "name": "stdout",
          "text": [
            "The letter a is the same in both strings\n",
            "The letter b is the same in both strings\n",
            "The letter d is the same in both strings\n",
            "The letter g is the same in both strings\n",
            "The letter a is the same in both strings\n",
            "The letter b is the same in both strings\n",
            "The letter d is the same in both strings\n",
            "The letter g is the same in both strings\n"
          ]
        }
      ],
      "source": [
        "s1 = 'abcdefg'\n",
        "s2 = 'abdght'\n",
        "\n",
        "for char in s1:\n",
        "  if char in s2:\n",
        "    print(f'The letter {char} is the same in both strings')\n",
        "\n",
        "for index in range(len(s1)):\n",
        "  if s1[index] in s2:\n",
        "    print(f'The letter {s1[index]} is the same in both strings')\n",
        "\n",
        ""
      ]
    }
  ]
}
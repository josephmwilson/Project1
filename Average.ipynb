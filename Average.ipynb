{
  "nbformat": 4,
  "nbformat_minor": 0,
  "metadata": {
    "colab": {
      "provenance": [],
      "authorship_tag": "ABX9TyOC8fHb+jRzK1r353S2yntH",
      "include_colab_link": true
    },
    "kernelspec": {
      "name": "python3",
      "display_name": "Python 3"
    },
    "language_info": {
      "name": "python"
    }
  },
  "cells": [
    {
      "cell_type": "markdown",
      "metadata": {
        "id": "view-in-github",
        "colab_type": "text"
      },
      "source": [
        "<a href=\"https://colab.research.google.com/github/josephmwilson/Project1/blob/main/Average.ipynb\" target=\"_parent\"><img src=\"https://colab.research.google.com/assets/colab-badge.svg\" alt=\"Open In Colab\"/></a>"
      ]
    },
    {
      "cell_type": "code",
      "execution_count": 9,
      "metadata": {
        "colab": {
          "base_uri": "https://localhost:8080/"
        },
        "id": "KK2Crrqi2aBW",
        "outputId": "16b44b6d-6e44-49de-8fcd-d85ee6632a6a"
      },
      "outputs": [
        {
          "output_type": "execute_result",
          "data": {
            "text/plain": [
              "40410470.4"
            ]
          },
          "metadata": {},
          "execution_count": 9
        }
      ],
      "source": [
        "def avg(aList):\n",
        "  try:\n",
        "    return sum(aList) / len(aList)\n",
        "  except ZeroDivisionError:\n",
        "    print('The list is empty')\n",
        "    return []\n",
        "  except TypeError:\n",
        "    print('Wrong type is in the list')\n",
        "    return float('nan')\n",
        "\n",
        "avg([100,50,2000,202020202,30000])\n"
      ]
    }
  ]
}
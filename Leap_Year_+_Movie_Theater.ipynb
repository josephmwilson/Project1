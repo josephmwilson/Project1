{
  "nbformat": 4,
  "nbformat_minor": 0,
  "metadata": {
    "colab": {
      "provenance": [],
      "authorship_tag": "ABX9TyOnF+YJpPomTMhMA/jxj4dy",
      "include_colab_link": true
    },
    "kernelspec": {
      "name": "python3",
      "display_name": "Python 3"
    },
    "language_info": {
      "name": "python"
    }
  },
  "cells": [
    {
      "cell_type": "markdown",
      "metadata": {
        "id": "view-in-github",
        "colab_type": "text"
      },
      "source": [
        "<a href=\"https://colab.research.google.com/github/josephmwilson/Project1/blob/main/Leap_Year_%2B_Movie_Theater.ipynb\" target=\"_parent\"><img src=\"https://colab.research.google.com/assets/colab-badge.svg\" alt=\"Open In Colab\"/></a>"
      ]
    },
    {
      "cell_type": "code",
      "execution_count": null,
      "metadata": {
        "colab": {
          "base_uri": "https://localhost:8080/"
        },
        "id": "ljm9CgG7PPeK",
        "outputId": "fa74bd57-ac63-48df-9172-0a0c0301ffb5"
      },
      "outputs": [
        {
          "output_type": "stream",
          "name": "stdout",
          "text": [
            "Enter a year: 2024\n",
            "2024 is a leap year\n"
          ]
        }
      ],
      "source": [
        "# Leap Year Code\n",
        "\n",
        "year = int(input('Enter a year: '))\n",
        "\n",
        "if (year % 4 == 0 and year % 100 != 0) or (year % 400 == 0):\n",
        "  print(f'{year} is a leap year')\n",
        "else:\n",
        "  print(f'{year} is not a leap year')"
      ]
    },
    {
      "cell_type": "code",
      "source": [
        "# Movie Theater\n",
        "\n",
        "intit_attendance = 20\n",
        "fixed_cost = 200\n",
        "\n",
        "for advertising in range(0, 201, 25):\n",
        "  attendees = float(2*round(advertising**0.5) + intit_attendance)\n",
        "  profit = float((attendees * 10) - advertising - fixed_cost)\n",
        "  print(f'{advertising} ${profit}')"
      ],
      "metadata": {
        "colab": {
          "base_uri": "https://localhost:8080/"
        },
        "id": "QAvVoP3RP0Hl",
        "outputId": "48783b6d-638f-460e-a0b8-19355c2a2590"
      },
      "execution_count": null,
      "outputs": [
        {
          "output_type": "stream",
          "name": "stdout",
          "text": [
            "0 $0.0\n",
            "25 $75.0\n",
            "50 $90.0\n",
            "75 $105.0\n",
            "100 $100.0\n",
            "125 $95.0\n",
            "150 $90.0\n",
            "175 $85.0\n",
            "200 $80.0\n"
          ]
        }
      ]
    }
  ]
}
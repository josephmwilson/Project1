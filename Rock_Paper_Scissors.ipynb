{
  "cells": [
    {
      "cell_type": "markdown",
      "metadata": {
        "id": "view-in-github",
        "colab_type": "text"
      },
      "source": [
        "<a href=\"https://colab.research.google.com/github/josephmwilson/Project1/blob/main/Rock_Paper_Scissors.ipynb\" target=\"_parent\"><img src=\"https://colab.research.google.com/assets/colab-badge.svg\" alt=\"Open In Colab\"/></a>"
      ]
    },
    {
      "cell_type": "code",
      "execution_count": null,
      "metadata": {
        "colab": {
          "background_save": true,
          "base_uri": "https://localhost:8080/"
        },
        "id": "D1hrJsWV3vpe",
        "outputId": "eade3f00-dcb9-41a4-d7f3-86ac75e3a14d"
      },
      "outputs": [
        {
          "name": "stdout",
          "output_type": "stream",
          "text": [
            "Tie\n",
            "PC wins\n",
            "Tie\n",
            "User wins!\n",
            "Tie\n",
            "Tie\n",
            "Tie\n"
          ]
        }
      ],
      "source": [
        "import random\n",
        "user_input = input(\"Shall we play a game: \")\n",
        "while user_input == \"Yes\" or \"yes\" or \"sure\":\n",
        "  pc_choice = random.choice(['rock','paper','scissors'])\n",
        "  user_choice = input('rock paper, or scissors: ')\n",
        "\n",
        "  if user_choice == pc_choice:\n",
        "   print('Tie')\n",
        "  elif user_choice == 'rock' and pc_choice == 'paper' or user_choice == 'paper' and pc_choice == 'scissors' or user_choice == 'paper' and pc_choice == 'scissors':\n",
        "    print('PC wins')\n",
        "  else:\n",
        "    print('User wins!')\n",
        "  user_input = input(\"Shall we play again:\")\n",
        "  if user_input == \"No\" or \"no\"\n",
        "    break\n",
        "\n",
        "\n",
        "\n",
        "\n"
      ]
    },
    {
      "cell_type": "code",
      "source": [
        "# String slicing, index, length\n",
        "\n",
        "s = 'This is a test'\n",
        "\n",
        "s2 = 'This is another test'\n",
        "\n",
        "len(s) #Length\n",
        "\n",
        "print(s[len(s) - 1]) #Indexing\n",
        "\n",
        "is_word = s[5:7:1] #Slicing\n",
        "print(is_word)\n",
        "\n",
        "this_word = s[:4] # Goes from characters 0 to 4\n",
        "test_word = s[10:] # Goes from 10 to length of s (SPACES COUNT AS CHARACTERS)\n",
        "print(this_word, test_word)\n",
        "print(s[13],s[len(s)-1],s[-1])\n",
        "\n",
        "t1 = 'ab'\n",
        "t2 = 'cd'\n",
        "\n",
        "t1 + t2\n",
        "\n",
        "\n",
        "\n",
        "\n"
      ],
      "metadata": {
        "colab": {
          "base_uri": "https://localhost:8080/",
          "height": 104
        },
        "id": "5Gk1UEP0-uLZ",
        "outputId": "842393f2-4d3f-4839-d1bc-f6c2c745c1f4"
      },
      "execution_count": null,
      "outputs": [
        {
          "output_type": "stream",
          "name": "stdout",
          "text": [
            "t\n",
            "is\n",
            "This test\n",
            "t t t\n"
          ]
        },
        {
          "output_type": "execute_result",
          "data": {
            "text/plain": [
              "'abcd'"
            ],
            "application/vnd.google.colaboratory.intrinsic+json": {
              "type": "string"
            }
          },
          "metadata": {},
          "execution_count": 11
        }
      ]
    },
    {
      "cell_type": "markdown",
      "metadata": {
        "id": "dQfHzIAqmcdz"
      },
      "source": [
        "Making shapes in"
      ]
    },
    {
      "cell_type": "code",
      "execution_count": null,
      "metadata": {
        "colab": {
          "base_uri": "https://localhost:8080/"
        },
        "id": "1P7csDdRS5Ie",
        "outputId": "68f1e2c8-a93d-48c0-ec25-54914ae51b7d"
      },
      "outputs": [
        {
          "name": "stdout",
          "output_type": "stream",
          "text": [
            "Collecting ColabTurtlePlus\n",
            "  Downloading ColabTurtlePlus-2.0.1-py3-none-any.whl (31 kB)\n",
            "Installing collected packages: ColabTurtlePlus\n",
            "Successfully installed ColabTurtlePlus-2.0.1\n"
          ]
        }
      ],
      "source": [
        "!pip install ColabTurtlePlus\n",
        "\n"
      ]
    },
    {
      "cell_type": "code",
      "execution_count": null,
      "metadata": {
        "colab": {
          "base_uri": "https://localhost:8080/",
          "height": 621
        },
        "id": "xGvLaoZ8TTKv",
        "outputId": "60685e53-8431-4844-b6fb-be4cd2ce07b5"
      },
      "outputs": [
        {
          "data": {
            "text/html": [
              "\n",
              "      <svg width=\"800\" height=\"600\">  \n",
              "        <rect width=\"100%\" height=\"100%\" style=\"fill:white;stroke:;stroke-width:1\"/>\n",
              "        \n",
              "        \n",
              "        <path fill-rule=\"evenodd\" fill-opacity=\"1\" d=\"M 400.0 300.0  L 400.0 300.0  L 500.0 300.0  L 500.0 200.0  L 400.0 200.0  L 400.0 300.0 \" stroke-linecap=\"round\" style=\"stroke:black;stroke-width:1\" fill=\"red\" />\n",
              "        \n",
              "        \n",
              "        <g id=\"classic\" visibility=\"visible\" transform=\"rotate(-90,400.0,300.0) translate(400.0, 300.0)\">\n",
              "<polygon points=\"-5,-4.5 0,-2.5 5,-4.5 0,4.5\" transform=\"skewX(0) scale(1,1)\" style=\"stroke:black;fill:red;stroke-width:1\" />\n",
              "</g>\n",
              "      </svg>\n",
              "    "
            ],
            "text/plain": [
              "<IPython.core.display.HTML object>"
            ]
          },
          "metadata": {},
          "output_type": "display_data"
        }
      ],
      "source": [
        "from ColabTurtlePlus.Turtle import *\n",
        "\n",
        "clearscreen()\n",
        "\n",
        "color('black','red')\n",
        "begin_fill()\n",
        "jumpto(0,0)\n",
        "\n",
        "for var in range(4):\n",
        "  forward(100)\n",
        "  left(90)\n",
        "\n",
        "end_fill()"
      ]
    }
  ],
  "metadata": {
    "colab": {
      "toc_visible": true,
      "provenance": [],
      "authorship_tag": "ABX9TyNJJSZOfXmbYrgx7cNimuR2",
      "include_colab_link": true
    },
    "kernelspec": {
      "display_name": "Python 3",
      "name": "python3"
    },
    "language_info": {
      "name": "python"
    }
  },
  "nbformat": 4,
  "nbformat_minor": 0
}
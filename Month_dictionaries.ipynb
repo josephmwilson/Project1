{
  "nbformat": 4,
  "nbformat_minor": 0,
  "metadata": {
    "colab": {
      "provenance": [],
      "authorship_tag": "ABX9TyO1Ni8w55Bi0P+bP+SQc5XA",
      "include_colab_link": true
    },
    "kernelspec": {
      "name": "python3",
      "display_name": "Python 3"
    },
    "language_info": {
      "name": "python"
    }
  },
  "cells": [
    {
      "cell_type": "markdown",
      "metadata": {
        "id": "view-in-github",
        "colab_type": "text"
      },
      "source": [
        "<a href=\"https://colab.research.google.com/github/josephmwilson/Project1/blob/main/Month_dictionaries.ipynb\" target=\"_parent\"><img src=\"https://colab.research.google.com/assets/colab-badge.svg\" alt=\"Open In Colab\"/></a>"
      ]
    },
    {
      "cell_type": "code",
      "execution_count": 14,
      "metadata": {
        "colab": {
          "base_uri": "https://localhost:8080/"
        },
        "id": "T-VXsVddmOry",
        "outputId": "491f6b05-b6a9-490f-8c1f-83af7dd098aa"
      },
      "outputs": [
        {
          "output_type": "stream",
          "name": "stdout",
          "text": [
            "{1: 'Jan', 2: 'Feb', 3: 'Mar', 4: 'Apr', 5: 'May', 6: 'Jun', 7: 'Jul', 8: 'Aug', 9: 'Sep', 10: 'Oct', 11: 'Nov', 12: 'Dec'}\n"
          ]
        }
      ],
      "source": [
        "months = {}\n",
        "\n",
        "numbers = [1,2,3,4,5,6,7,8,9,10,11,12]\n",
        "names = [\"Jan\", \"Feb\",\"Mar\",'Apr','May','Jun','Jul','Aug','Sep','Oct','Nov',\"Dec\"]\n",
        "\n",
        "for num in numbers:\n",
        "  months[num] = names[num - 1]\n",
        "print(months)\n"
      ]
    }
  ]
}
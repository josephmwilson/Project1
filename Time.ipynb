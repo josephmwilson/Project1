{
  "nbformat": 4,
  "nbformat_minor": 0,
  "metadata": {
    "colab": {
      "provenance": [],
      "authorship_tag": "ABX9TyOe4Hx1SAgwkhSBksSlwC6p",
      "include_colab_link": true
    },
    "kernelspec": {
      "name": "python3",
      "display_name": "Python 3"
    },
    "language_info": {
      "name": "python"
    }
  },
  "cells": [
    {
      "cell_type": "markdown",
      "metadata": {
        "id": "view-in-github",
        "colab_type": "text"
      },
      "source": [
        "<a href=\"https://colab.research.google.com/github/josephmwilson/Project1/blob/main/Time.ipynb\" target=\"_parent\"><img src=\"https://colab.research.google.com/assets/colab-badge.svg\" alt=\"Open In Colab\"/></a>"
      ]
    },
    {
      "cell_type": "code",
      "execution_count": 4,
      "metadata": {
        "colab": {
          "base_uri": "https://localhost:8080/"
        },
        "id": "ePE473-0wae0",
        "outputId": "a060d6ab-b6a1-49ff-a639-18484bb77162"
      },
      "outputs": [
        {
          "output_type": "stream",
          "name": "stdout",
          "text": [
            "Enter date like this: MM/DD/YYYY\n",
            "Enter a date: 07/30/1986\n",
            "The month is 07\n",
            "The day is 30\n",
            "The year is 1986\n"
          ]
        }
      ],
      "source": [
        "\n",
        "print(\"Enter date like this: MM/DD/YYYY\" )\n",
        "date = input(\"Enter a date: \")\n",
        "\n",
        "month = date[0:2]\n",
        "print(f'The month is {month}')\n",
        "day = date[3:5]\n",
        "print(f'The day is {day}')\n",
        "year = date[6:10]\n",
        "print(f'The year is {year}')"
      ]
    }
  ]
}